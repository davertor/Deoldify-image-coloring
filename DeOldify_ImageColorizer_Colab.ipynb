{
  "nbformat": 4,
  "nbformat_minor": 0,
  "metadata": {
    "accelerator": "GPU",
    "colab": {
      "name": "DeOldify ImageColorizer Colab.ipynb",
      "provenance": [],
      "collapsed_sections": [],
      "toc_visible": true
    },
    "kernelspec": {
      "name": "python3",
      "display_name": "Python 3"
    },
    "language_info": {
      "codemirror_mode": {
        "name": "ipython",
        "version": 3
      },
      "file_extension": ".py",
      "mimetype": "text/x-python",
      "name": "python",
      "nbconvert_exporter": "python",
      "pygments_lexer": "ipython3",
      "version": "3.7.6"
    }
  },
  "cells": [
    {
      "cell_type": "markdown",
      "metadata": {
        "id": "663IVxfrpIAb"
      },
      "source": [
        "# **DeOldify - Colorea tus fotos gracias a la inteligencia artificial** \n",
        "\n",
        "DeOldify es una herramienta que colorea fotos en blanco y negro antiguas que hayan sido digitalizadas. A dia de hoy, DeOldify representa el estado del arte en esta tarea y gracias a este Colab, podremos colorear tantas fotos como queramos.\n",
        "\n",
        "Esta herramienta fue desarrollada por Jason Antic, que entrenó una IA basada en una arquitectura GAN llamada NoGan. Para ello, entrenó la red mediante una coleccion de fotos a color y sus correspondientes versiones en blanco y negro. El resultado es que la red ha aprendido a colorear fotos en blanco y negro; completando la informacion que falta. \n",
        "\n",
        "Mientras las fotos en blanco y negro son una combinacion de pixeles en escala de grises que pueden tomar un valor entre 0-255; en las fotos a color cada pixel es una combinacion de tres valores, rojo, verde y azul donde cada uno de ellos puede tomar un valor de 0 a 255. Por tanto, la red NoGan tiene que conseguir triplicar la informacion que tiene de la foto para conseguir obtener una foto a color. \n",
        "\n",
        "**Autor del colab:** \n",
        "[Daniel Verdu Torres](https://davertor.github.io/)\n",
        "\n",
        "**Referencias:**\n",
        "\n",
        "[DeOldify](https://deoldify.ai/)\n",
        "\n",
        "[DeOldify original github](https://github.com/jantic/DeOldify)\n",
        "\n"
      ]
    },
    {
      "cell_type": "markdown",
      "metadata": {
        "id": "ZjPqTBNoohK9"
      },
      "source": [
        "\n",
        "\n",
        "---\n",
        "\n",
        "\n",
        "## Configurar correctamente el notebook\n",
        "\n",
        "**<font color='#FF000'> IMPORTANTE </font>**\n",
        "\n",
        "Primero hay que asegurarse que el entorno está configurado correctamente. Para ello, clicar en Entorno de ejecución > Cambiar entorno de ejecución y seleccionar:\n",
        "\n",
        "* Acelerador por Hardware = GPU \n"
      ]
    },
    {
      "cell_type": "markdown",
      "metadata": {
        "id": "jZqrIKjmxCmW"
      },
      "source": [
        "Para verificar de que hardware nos proporciona Google, ejecutar la siguiente celda."
      ]
    },
    {
      "cell_type": "code",
      "metadata": {
        "id": "xZCrPk4JeNkO",
        "outputId": "96119e36-ebfe-4090-a148-5cdc4c30fc8c",
        "colab": {
          "base_uri": "https://localhost:8080/",
          "height": 384
        }
      },
      "source": [
        "!nvidia-smi"
      ],
      "execution_count": null,
      "outputs": [
        {
          "output_type": "stream",
          "text": [
            "Sun Sep 27 13:52:13 2020       \n",
            "+-----------------------------------------------------------------------------+\n",
            "| NVIDIA-SMI 450.66       Driver Version: 418.67       CUDA Version: 10.1     |\n",
            "|-------------------------------+----------------------+----------------------+\n",
            "| GPU  Name        Persistence-M| Bus-Id        Disp.A | Volatile Uncorr. ECC |\n",
            "| Fan  Temp  Perf  Pwr:Usage/Cap|         Memory-Usage | GPU-Util  Compute M. |\n",
            "|                               |                      |               MIG M. |\n",
            "|===============================+======================+======================|\n",
            "|   0  Tesla K80           Off  | 00000000:00:04.0 Off |                    0 |\n",
            "| N/A   48C    P8    31W / 149W |      0MiB / 11441MiB |      0%      Default |\n",
            "|                               |                      |                 ERR! |\n",
            "+-------------------------------+----------------------+----------------------+\n",
            "                                                                               \n",
            "+-----------------------------------------------------------------------------+\n",
            "| Processes:                                                                  |\n",
            "|  GPU   GI   CI        PID   Type   Process name                  GPU Memory |\n",
            "|        ID   ID                                                   Usage      |\n",
            "|=============================================================================|\n",
            "|  No running processes found                                                 |\n",
            "+-----------------------------------------------------------------------------+\n"
          ],
          "name": "stdout"
        }
      ]
    },
    {
      "cell_type": "markdown",
      "metadata": {
        "id": "XTUW3VTRxa1U"
      },
      "source": [
        "### Sincronizar con Google Drive\n",
        "\n",
        "Todo lo que descarguemos y ejecutemos en Google Colab se borrará cuando cerremos la pestaña. Para no perder todos los avances y resultados, una opción recomendable suele ser conectar el notebook con nuestra cuenta de Google Drive. \n",
        "\n",
        "Para ello ejecutar la celda que se muestra a continuación y seguir las instrucciones. Una vez ejecutado, podemos ver a la izquierda, que una nueva carpeta ha aparecido en el árbol de carpetas."
      ]
    },
    {
      "cell_type": "code",
      "metadata": {
        "id": "PTJQVI-ZY3bW",
        "outputId": "4abb7ec0-7b98-4b4c-b3a9-875d75f44a93",
        "colab": {
          "base_uri": "https://localhost:8080/",
          "height": 35
        }
      },
      "source": [
        "from google.colab import drive\n",
        "drive.mount('/content/drive')"
      ],
      "execution_count": null,
      "outputs": [
        {
          "output_type": "stream",
          "text": [
            "Mounted at /content/drive\n"
          ],
          "name": "stdout"
        }
      ]
    },
    {
      "cell_type": "markdown",
      "metadata": {
        "id": "gaEJBGDlptEo"
      },
      "source": [
        "### Clonar GIT DeOldify\n",
        "\n",
        "Ahora ya solo nos queda descargar el proyecto original de J.Antic desde su github para poder colorear nuestras fotos.\n"
      ]
    },
    {
      "cell_type": "code",
      "metadata": {
        "id": "-T-svuHytJ-8",
        "outputId": "521f1e58-07c5-4822-d8da-8015b829174f",
        "colab": {
          "base_uri": "https://localhost:8080/",
          "height": 109
        }
      },
      "source": [
        "!git clone https://github.com/jantic/DeOldify.git DeOldify "
      ],
      "execution_count": null,
      "outputs": [
        {
          "output_type": "stream",
          "text": [
            "Cloning into 'DeOldify'...\n",
            "remote: Enumerating objects: 2129, done.\u001b[K\n",
            "remote: Total 2129 (delta 0), reused 0 (delta 0), pack-reused 2129\u001b[K\n",
            "Receiving objects: 100% (2129/2129), 69.36 MiB | 20.93 MiB/s, done.\n",
            "Resolving deltas: 100% (965/965), done.\n"
          ],
          "name": "stdout"
        }
      ]
    },
    {
      "cell_type": "code",
      "metadata": {
        "id": "dywNMmip9EXh",
        "outputId": "0efb32b4-0f8c-4306-8d7e-102f62efbdc5",
        "colab": {
          "base_uri": "https://localhost:8080/",
          "height": 35
        }
      },
      "source": [
        "cd DeOldify"
      ],
      "execution_count": null,
      "outputs": [
        {
          "output_type": "stream",
          "text": [
            "/content/DeOldify\n"
          ],
          "name": "stdout"
        }
      ]
    },
    {
      "cell_type": "markdown",
      "metadata": {
        "id": "BDFjbNxaadNJ"
      },
      "source": [
        "## Importar las librerias correspondientes"
      ]
    },
    {
      "cell_type": "code",
      "metadata": {
        "id": "00_GcC_trpdE"
      },
      "source": [
        "\n",
        "from deoldify import device\n",
        "from deoldify.device_id import DeviceId\n",
        "#choices:  CPU, GPU0...GPU7\n",
        "device.set(device=DeviceId.GPU0)\n",
        "\n",
        "import torch\n",
        "\n",
        "if not torch.cuda.is_available():\n",
        "    print('GPU not available.')"
      ],
      "execution_count": null,
      "outputs": []
    },
    {
      "cell_type": "code",
      "metadata": {
        "id": "Lsx7xCXNSVt6",
        "outputId": "a3742b82-00a6-4454-ae43-dd1d83ac1c36",
        "colab": {
          "base_uri": "https://localhost:8080/",
          "height": 1000
        }
      },
      "source": [
        "!pip install -r colab_requirements.txt"
      ],
      "execution_count": null,
      "outputs": [
        {
          "output_type": "stream",
          "text": [
            "Collecting fastai==1.0.51\n",
            "\u001b[?25l  Downloading https://files.pythonhosted.org/packages/44/cc/dcc702cf43bb8c908d172e5be156615928f962366a20834c320cbca2b9d0/fastai-1.0.51-py3-none-any.whl (214kB)\n",
            "\u001b[K     |████████████████████████████████| 215kB 6.6MB/s \n",
            "\u001b[?25hCollecting tensorboardX==1.6\n",
            "\u001b[?25l  Downloading https://files.pythonhosted.org/packages/5c/76/89dd44458eb976347e5a6e75eb79fecf8facd46c1ce259bad54e0044ea35/tensorboardX-1.6-py2.py3-none-any.whl (129kB)\n",
            "\u001b[K     |████████████████████████████████| 133kB 18.0MB/s \n",
            "\u001b[?25hCollecting ffmpeg\n",
            "  Downloading https://files.pythonhosted.org/packages/f0/cc/3b7408b8ecf7c1d20ad480c3eaed7619857bf1054b690226e906fdf14258/ffmpeg-1.4.tar.gz\n",
            "Collecting ffmpeg-python==0.1.17\n",
            "  Downloading https://files.pythonhosted.org/packages/3d/10/330cbc8e63d072d40413f4d470444a6a1e8c8c6a80b2a4ac302d1252ca1b/ffmpeg_python-0.1.17-py3-none-any.whl\n",
            "Collecting youtube-dl>=2019.4.17\n",
            "\u001b[?25l  Downloading https://files.pythonhosted.org/packages/70/b4/c83b577bfb1be7c88dff10eecd70650eca7729b25135345108ea676e6f3b/youtube_dl-2020.9.20-py2.py3-none-any.whl (1.8MB)\n",
            "\u001b[K     |████████████████████████████████| 1.8MB 14.6MB/s \n",
            "\u001b[?25hCollecting jupyterlab\n",
            "\u001b[?25l  Downloading https://files.pythonhosted.org/packages/d7/a9/d7c904ee406d1ce320fd1d91e05111fa158e66bb217f68d070b5f58c5937/jupyterlab-2.2.8-py3-none-any.whl (7.8MB)\n",
            "\u001b[K     |████████████████████████████████| 7.8MB 27.5MB/s \n",
            "\u001b[?25hRequirement already satisfied: opencv-python>=3.3.0.10 in /usr/local/lib/python3.6/dist-packages (from -r colab_requirements.txt (line 7)) (4.1.2.30)\n",
            "Requirement already satisfied: pillow in /usr/local/lib/python3.6/dist-packages (from -r colab_requirements.txt (line 8)) (7.0.0)\n",
            "Requirement already satisfied: numexpr in /usr/local/lib/python3.6/dist-packages (from fastai==1.0.51->-r colab_requirements.txt (line 1)) (2.7.1)\n",
            "Requirement already satisfied: fastprogress>=0.1.19 in /usr/local/lib/python3.6/dist-packages (from fastai==1.0.51->-r colab_requirements.txt (line 1)) (1.0.0)\n",
            "Requirement already satisfied: numpy>=1.15 in /usr/local/lib/python3.6/dist-packages (from fastai==1.0.51->-r colab_requirements.txt (line 1)) (1.18.5)\n",
            "Requirement already satisfied: pyyaml in /usr/local/lib/python3.6/dist-packages (from fastai==1.0.51->-r colab_requirements.txt (line 1)) (3.13)\n",
            "Requirement already satisfied: packaging in /usr/local/lib/python3.6/dist-packages (from fastai==1.0.51->-r colab_requirements.txt (line 1)) (20.4)\n",
            "Requirement already satisfied: scipy in /usr/local/lib/python3.6/dist-packages (from fastai==1.0.51->-r colab_requirements.txt (line 1)) (1.4.1)\n",
            "Requirement already satisfied: torch>=1.0.0 in /usr/local/lib/python3.6/dist-packages (from fastai==1.0.51->-r colab_requirements.txt (line 1)) (1.6.0+cu101)\n",
            "Collecting typing\n",
            "\u001b[?25l  Downloading https://files.pythonhosted.org/packages/05/d9/6eebe19d46bd05360c9a9aae822e67a80f9242aabbfc58b641b957546607/typing-3.7.4.3.tar.gz (78kB)\n",
            "\u001b[K     |████████████████████████████████| 81kB 9.5MB/s \n",
            "\u001b[?25hRequirement already satisfied: matplotlib in /usr/local/lib/python3.6/dist-packages (from fastai==1.0.51->-r colab_requirements.txt (line 1)) (3.2.2)\n",
            "Requirement already satisfied: dataclasses; python_version < \"3.7\" in /usr/local/lib/python3.6/dist-packages (from fastai==1.0.51->-r colab_requirements.txt (line 1)) (0.7)\n",
            "Requirement already satisfied: bottleneck in /usr/local/lib/python3.6/dist-packages (from fastai==1.0.51->-r colab_requirements.txt (line 1)) (1.3.2)\n",
            "Requirement already satisfied: pandas in /usr/local/lib/python3.6/dist-packages (from fastai==1.0.51->-r colab_requirements.txt (line 1)) (1.0.5)\n",
            "Requirement already satisfied: torchvision in /usr/local/lib/python3.6/dist-packages (from fastai==1.0.51->-r colab_requirements.txt (line 1)) (0.7.0+cu101)\n",
            "Requirement already satisfied: beautifulsoup4 in /usr/local/lib/python3.6/dist-packages (from fastai==1.0.51->-r colab_requirements.txt (line 1)) (4.6.3)\n",
            "Requirement already satisfied: requests in /usr/local/lib/python3.6/dist-packages (from fastai==1.0.51->-r colab_requirements.txt (line 1)) (2.23.0)\n",
            "Requirement already satisfied: nvidia-ml-py3 in /usr/local/lib/python3.6/dist-packages (from fastai==1.0.51->-r colab_requirements.txt (line 1)) (7.352.0)\n",
            "Requirement already satisfied: spacy>=2.0.18 in /usr/local/lib/python3.6/dist-packages (from fastai==1.0.51->-r colab_requirements.txt (line 1)) (2.2.4)\n",
            "Requirement already satisfied: protobuf>=3.2.0 in /usr/local/lib/python3.6/dist-packages (from tensorboardX==1.6->-r colab_requirements.txt (line 2)) (3.12.4)\n",
            "Requirement already satisfied: six in /usr/local/lib/python3.6/dist-packages (from tensorboardX==1.6->-r colab_requirements.txt (line 2)) (1.15.0)\n",
            "Requirement already satisfied: future in /usr/local/lib/python3.6/dist-packages (from ffmpeg-python==0.1.17->-r colab_requirements.txt (line 4)) (0.16.0)\n",
            "Requirement already satisfied: jinja2>=2.10 in /usr/local/lib/python3.6/dist-packages (from jupyterlab->-r colab_requirements.txt (line 6)) (2.11.2)\n",
            "Requirement already satisfied: tornado!=6.0.0,!=6.0.1,!=6.0.2 in /usr/local/lib/python3.6/dist-packages (from jupyterlab->-r colab_requirements.txt (line 6)) (5.1.1)\n",
            "Requirement already satisfied: notebook>=4.3.1 in /usr/local/lib/python3.6/dist-packages (from jupyterlab->-r colab_requirements.txt (line 6)) (5.3.1)\n",
            "Collecting jupyterlab-server<2.0,>=1.1.5\n",
            "  Downloading https://files.pythonhosted.org/packages/b4/eb/560043dcd8376328f8b98869efed66ef68307278406ab99c7f63a34d4ae2/jupyterlab_server-1.2.0-py3-none-any.whl\n",
            "Requirement already satisfied: pyparsing>=2.0.2 in /usr/local/lib/python3.6/dist-packages (from packaging->fastai==1.0.51->-r colab_requirements.txt (line 1)) (2.4.7)\n",
            "Requirement already satisfied: kiwisolver>=1.0.1 in /usr/local/lib/python3.6/dist-packages (from matplotlib->fastai==1.0.51->-r colab_requirements.txt (line 1)) (1.2.0)\n",
            "Requirement already satisfied: python-dateutil>=2.1 in /usr/local/lib/python3.6/dist-packages (from matplotlib->fastai==1.0.51->-r colab_requirements.txt (line 1)) (2.8.1)\n",
            "Requirement already satisfied: cycler>=0.10 in /usr/local/lib/python3.6/dist-packages (from matplotlib->fastai==1.0.51->-r colab_requirements.txt (line 1)) (0.10.0)\n",
            "Requirement already satisfied: pytz>=2017.2 in /usr/local/lib/python3.6/dist-packages (from pandas->fastai==1.0.51->-r colab_requirements.txt (line 1)) (2018.9)\n",
            "Requirement already satisfied: idna<3,>=2.5 in /usr/local/lib/python3.6/dist-packages (from requests->fastai==1.0.51->-r colab_requirements.txt (line 1)) (2.10)\n",
            "Requirement already satisfied: certifi>=2017.4.17 in /usr/local/lib/python3.6/dist-packages (from requests->fastai==1.0.51->-r colab_requirements.txt (line 1)) (2020.6.20)\n",
            "Requirement already satisfied: urllib3!=1.25.0,!=1.25.1,<1.26,>=1.21.1 in /usr/local/lib/python3.6/dist-packages (from requests->fastai==1.0.51->-r colab_requirements.txt (line 1)) (1.24.3)\n",
            "Requirement already satisfied: chardet<4,>=3.0.2 in /usr/local/lib/python3.6/dist-packages (from requests->fastai==1.0.51->-r colab_requirements.txt (line 1)) (3.0.4)\n",
            "Requirement already satisfied: cymem<2.1.0,>=2.0.2 in /usr/local/lib/python3.6/dist-packages (from spacy>=2.0.18->fastai==1.0.51->-r colab_requirements.txt (line 1)) (2.0.3)\n",
            "Requirement already satisfied: blis<0.5.0,>=0.4.0 in /usr/local/lib/python3.6/dist-packages (from spacy>=2.0.18->fastai==1.0.51->-r colab_requirements.txt (line 1)) (0.4.1)\n",
            "Requirement already satisfied: setuptools in /usr/local/lib/python3.6/dist-packages (from spacy>=2.0.18->fastai==1.0.51->-r colab_requirements.txt (line 1)) (50.3.0)\n",
            "Requirement already satisfied: murmurhash<1.1.0,>=0.28.0 in /usr/local/lib/python3.6/dist-packages (from spacy>=2.0.18->fastai==1.0.51->-r colab_requirements.txt (line 1)) (1.0.2)\n",
            "Requirement already satisfied: plac<1.2.0,>=0.9.6 in /usr/local/lib/python3.6/dist-packages (from spacy>=2.0.18->fastai==1.0.51->-r colab_requirements.txt (line 1)) (1.1.3)\n",
            "Requirement already satisfied: thinc==7.4.0 in /usr/local/lib/python3.6/dist-packages (from spacy>=2.0.18->fastai==1.0.51->-r colab_requirements.txt (line 1)) (7.4.0)\n",
            "Requirement already satisfied: srsly<1.1.0,>=1.0.2 in /usr/local/lib/python3.6/dist-packages (from spacy>=2.0.18->fastai==1.0.51->-r colab_requirements.txt (line 1)) (1.0.2)\n",
            "Requirement already satisfied: wasabi<1.1.0,>=0.4.0 in /usr/local/lib/python3.6/dist-packages (from spacy>=2.0.18->fastai==1.0.51->-r colab_requirements.txt (line 1)) (0.8.0)\n",
            "Requirement already satisfied: preshed<3.1.0,>=3.0.2 in /usr/local/lib/python3.6/dist-packages (from spacy>=2.0.18->fastai==1.0.51->-r colab_requirements.txt (line 1)) (3.0.2)\n",
            "Requirement already satisfied: catalogue<1.1.0,>=0.0.7 in /usr/local/lib/python3.6/dist-packages (from spacy>=2.0.18->fastai==1.0.51->-r colab_requirements.txt (line 1)) (1.0.0)\n",
            "Requirement already satisfied: tqdm<5.0.0,>=4.38.0 in /usr/local/lib/python3.6/dist-packages (from spacy>=2.0.18->fastai==1.0.51->-r colab_requirements.txt (line 1)) (4.41.1)\n",
            "Requirement already satisfied: MarkupSafe>=0.23 in /usr/local/lib/python3.6/dist-packages (from jinja2>=2.10->jupyterlab->-r colab_requirements.txt (line 6)) (1.1.1)\n",
            "Requirement already satisfied: ipython-genutils in /usr/local/lib/python3.6/dist-packages (from notebook>=4.3.1->jupyterlab->-r colab_requirements.txt (line 6)) (0.2.0)\n",
            "Requirement already satisfied: nbformat in /usr/local/lib/python3.6/dist-packages (from notebook>=4.3.1->jupyterlab->-r colab_requirements.txt (line 6)) (5.0.7)\n",
            "Requirement already satisfied: jupyter-core>=4.4.0 in /usr/local/lib/python3.6/dist-packages (from notebook>=4.3.1->jupyterlab->-r colab_requirements.txt (line 6)) (4.6.3)\n",
            "Requirement already satisfied: Send2Trash in /usr/local/lib/python3.6/dist-packages (from notebook>=4.3.1->jupyterlab->-r colab_requirements.txt (line 6)) (1.5.0)\n",
            "Requirement already satisfied: terminado>=0.8.1 in /usr/local/lib/python3.6/dist-packages (from notebook>=4.3.1->jupyterlab->-r colab_requirements.txt (line 6)) (0.8.3)\n",
            "Requirement already satisfied: nbconvert in /usr/local/lib/python3.6/dist-packages (from notebook>=4.3.1->jupyterlab->-r colab_requirements.txt (line 6)) (5.6.1)\n",
            "Requirement already satisfied: ipykernel in /usr/local/lib/python3.6/dist-packages (from notebook>=4.3.1->jupyterlab->-r colab_requirements.txt (line 6)) (4.10.1)\n",
            "Requirement already satisfied: jupyter-client>=5.2.0 in /usr/local/lib/python3.6/dist-packages (from notebook>=4.3.1->jupyterlab->-r colab_requirements.txt (line 6)) (5.3.5)\n",
            "Requirement already satisfied: traitlets>=4.2.1 in /usr/local/lib/python3.6/dist-packages (from notebook>=4.3.1->jupyterlab->-r colab_requirements.txt (line 6)) (4.3.3)\n",
            "Collecting json5\n",
            "  Downloading https://files.pythonhosted.org/packages/2b/81/22bf51a5bc60dde18bb6164fd597f18ee683de8670e141364d9c432dd3cf/json5-0.9.5-py2.py3-none-any.whl\n",
            "Collecting jsonschema>=3.0.1\n",
            "\u001b[?25l  Downloading https://files.pythonhosted.org/packages/c5/8f/51e89ce52a085483359217bc72cdbf6e75ee595d5b1d4b5ade40c7e018b8/jsonschema-3.2.0-py2.py3-none-any.whl (56kB)\n",
            "\u001b[K     |████████████████████████████████| 61kB 7.7MB/s \n",
            "\u001b[?25hRequirement already satisfied: importlib-metadata>=0.20; python_version < \"3.8\" in /usr/local/lib/python3.6/dist-packages (from catalogue<1.1.0,>=0.0.7->spacy>=2.0.18->fastai==1.0.51->-r colab_requirements.txt (line 1)) (1.7.0)\n",
            "Requirement already satisfied: ptyprocess; os_name != \"nt\" in /usr/local/lib/python3.6/dist-packages (from terminado>=0.8.1->notebook>=4.3.1->jupyterlab->-r colab_requirements.txt (line 6)) (0.6.0)\n",
            "Requirement already satisfied: pygments in /usr/local/lib/python3.6/dist-packages (from nbconvert->notebook>=4.3.1->jupyterlab->-r colab_requirements.txt (line 6)) (2.6.1)\n",
            "Requirement already satisfied: testpath in /usr/local/lib/python3.6/dist-packages (from nbconvert->notebook>=4.3.1->jupyterlab->-r colab_requirements.txt (line 6)) (0.4.4)\n",
            "Requirement already satisfied: bleach in /usr/local/lib/python3.6/dist-packages (from nbconvert->notebook>=4.3.1->jupyterlab->-r colab_requirements.txt (line 6)) (3.2.0)\n",
            "Requirement already satisfied: defusedxml in /usr/local/lib/python3.6/dist-packages (from nbconvert->notebook>=4.3.1->jupyterlab->-r colab_requirements.txt (line 6)) (0.6.0)\n",
            "Requirement already satisfied: pandocfilters>=1.4.1 in /usr/local/lib/python3.6/dist-packages (from nbconvert->notebook>=4.3.1->jupyterlab->-r colab_requirements.txt (line 6)) (1.4.2)\n",
            "Requirement already satisfied: mistune<2,>=0.8.1 in /usr/local/lib/python3.6/dist-packages (from nbconvert->notebook>=4.3.1->jupyterlab->-r colab_requirements.txt (line 6)) (0.8.4)\n",
            "Requirement already satisfied: entrypoints>=0.2.2 in /usr/local/lib/python3.6/dist-packages (from nbconvert->notebook>=4.3.1->jupyterlab->-r colab_requirements.txt (line 6)) (0.3)\n",
            "Requirement already satisfied: ipython>=4.0.0 in /usr/local/lib/python3.6/dist-packages (from ipykernel->notebook>=4.3.1->jupyterlab->-r colab_requirements.txt (line 6)) (5.5.0)\n",
            "Requirement already satisfied: pyzmq>=13 in /usr/local/lib/python3.6/dist-packages (from jupyter-client>=5.2.0->notebook>=4.3.1->jupyterlab->-r colab_requirements.txt (line 6)) (19.0.2)\n",
            "Requirement already satisfied: decorator in /usr/local/lib/python3.6/dist-packages (from traitlets>=4.2.1->notebook>=4.3.1->jupyterlab->-r colab_requirements.txt (line 6)) (4.4.2)\n",
            "Requirement already satisfied: attrs>=17.4.0 in /usr/local/lib/python3.6/dist-packages (from jsonschema>=3.0.1->jupyterlab-server<2.0,>=1.1.5->jupyterlab->-r colab_requirements.txt (line 6)) (20.2.0)\n",
            "Requirement already satisfied: pyrsistent>=0.14.0 in /usr/local/lib/python3.6/dist-packages (from jsonschema>=3.0.1->jupyterlab-server<2.0,>=1.1.5->jupyterlab->-r colab_requirements.txt (line 6)) (0.17.3)\n",
            "Requirement already satisfied: zipp>=0.5 in /usr/local/lib/python3.6/dist-packages (from importlib-metadata>=0.20; python_version < \"3.8\"->catalogue<1.1.0,>=0.0.7->spacy>=2.0.18->fastai==1.0.51->-r colab_requirements.txt (line 1)) (3.1.0)\n",
            "Requirement already satisfied: webencodings in /usr/local/lib/python3.6/dist-packages (from bleach->nbconvert->notebook>=4.3.1->jupyterlab->-r colab_requirements.txt (line 6)) (0.5.1)\n",
            "Requirement already satisfied: simplegeneric>0.8 in /usr/local/lib/python3.6/dist-packages (from ipython>=4.0.0->ipykernel->notebook>=4.3.1->jupyterlab->-r colab_requirements.txt (line 6)) (0.8.1)\n",
            "Requirement already satisfied: pickleshare in /usr/local/lib/python3.6/dist-packages (from ipython>=4.0.0->ipykernel->notebook>=4.3.1->jupyterlab->-r colab_requirements.txt (line 6)) (0.7.5)\n",
            "Requirement already satisfied: pexpect; sys_platform != \"win32\" in /usr/local/lib/python3.6/dist-packages (from ipython>=4.0.0->ipykernel->notebook>=4.3.1->jupyterlab->-r colab_requirements.txt (line 6)) (4.8.0)\n",
            "Requirement already satisfied: prompt-toolkit<2.0.0,>=1.0.4 in /usr/local/lib/python3.6/dist-packages (from ipython>=4.0.0->ipykernel->notebook>=4.3.1->jupyterlab->-r colab_requirements.txt (line 6)) (1.0.18)\n",
            "Requirement already satisfied: wcwidth in /usr/local/lib/python3.6/dist-packages (from prompt-toolkit<2.0.0,>=1.0.4->ipython>=4.0.0->ipykernel->notebook>=4.3.1->jupyterlab->-r colab_requirements.txt (line 6)) (0.2.5)\n",
            "Building wheels for collected packages: ffmpeg, typing\n",
            "  Building wheel for ffmpeg (setup.py) ... \u001b[?25l\u001b[?25hdone\n",
            "  Created wheel for ffmpeg: filename=ffmpeg-1.4-cp36-none-any.whl size=6083 sha256=c54682061c7d855bdae7a6d8c3b5dc029798e64e0338da6384b7635d5d63be16\n",
            "  Stored in directory: /root/.cache/pip/wheels/b6/68/c3/a05a35f647ba871e5572b9bbfc0b95fd1c6637a2219f959e7a\n",
            "  Building wheel for typing (setup.py) ... \u001b[?25l\u001b[?25hdone\n",
            "  Created wheel for typing: filename=typing-3.7.4.3-cp36-none-any.whl size=26307 sha256=1b98359268cbc5692cfa4c7e642914264f82b77062385251b5f38874a0c39e92\n",
            "  Stored in directory: /root/.cache/pip/wheels/2d/04/41/8e1836e79581989c22eebac3f4e70aaac9af07b0908da173be\n",
            "Successfully built ffmpeg typing\n",
            "\u001b[31mERROR: nbclient 0.5.0 has requirement jupyter-client>=6.1.5, but you'll have jupyter-client 5.3.5 which is incompatible.\u001b[0m\n",
            "Installing collected packages: typing, fastai, tensorboardX, ffmpeg, ffmpeg-python, youtube-dl, json5, jsonschema, jupyterlab-server, jupyterlab\n",
            "  Found existing installation: fastai 1.0.61\n",
            "    Uninstalling fastai-1.0.61:\n",
            "      Successfully uninstalled fastai-1.0.61\n",
            "  Found existing installation: jsonschema 2.6.0\n",
            "    Uninstalling jsonschema-2.6.0:\n",
            "      Successfully uninstalled jsonschema-2.6.0\n",
            "Successfully installed fastai-1.0.51 ffmpeg-1.4 ffmpeg-python-0.1.17 json5-0.9.5 jsonschema-3.2.0 jupyterlab-2.2.8 jupyterlab-server-1.2.0 tensorboardX-1.6 typing-3.7.4.3 youtube-dl-2020.9.20\n"
          ],
          "name": "stdout"
        },
        {
          "output_type": "display_data",
          "data": {
            "application/vnd.colab-display-data+json": {
              "pip_warning": {
                "packages": [
                  "typing"
                ]
              }
            }
          },
          "metadata": {
            "tags": []
          }
        }
      ]
    },
    {
      "cell_type": "code",
      "metadata": {
        "id": "MsJa69CMwj3l"
      },
      "source": [
        "import fastai\n",
        "from deoldify.visualize import *"
      ],
      "execution_count": null,
      "outputs": []
    },
    {
      "cell_type": "markdown",
      "metadata": {
        "id": "uSl2QAH1y_aN"
      },
      "source": [
        "## Seleccionar el modo de colorear deseado\n",
        "\n",
        "DeOldify incorpora dos modos diferentes para colorear las imagenes, llamados modo artistico y modo estable. Para utilizar uno u otro, se hace mediante el argumento de la funcion \"artistic\" en True o False. Se recomienda probar ambos y ver las diferencias."
      ]
    },
    {
      "cell_type": "code",
      "metadata": {
        "id": "svBOvG__Y3cB",
        "outputId": "7e2f0cc9-05ac-4b04-a58b-fe9f4acf1761",
        "colab": {
          "base_uri": "https://localhost:8080/",
          "height": 919
        }
      },
      "source": [
        "!mkdir 'models'\n",
        "\n",
        "# Para ejecutar el modo artistico, descomentar la siguiente celda e inicializar el valor artistic = True\n",
        "!wget https://www.dropbox.com/s/zkehq1uwahhbc2o/ColorizeArtistic_gen.pth?dl=0 -O ./models/ColorizeArtistic_gen.pth\n",
        "\n",
        "# Para usar el modo de color estable, desscomentar lo siguiente y poner artistic = False\n",
        "!wget https://www.dropbox.com/s/mwjep3vyqk5mkjc/ColorizeStable_gen.pth?dl=0 -O ./models/ColorizeStable_gen.pth"
      ],
      "execution_count": null,
      "outputs": [
        {
          "output_type": "stream",
          "text": [
            "--2020-09-27 13:52:41--  https://www.dropbox.com/s/zkehq1uwahhbc2o/ColorizeArtistic_gen.pth?dl=0\n",
            "Resolving www.dropbox.com (www.dropbox.com)... 162.125.67.1, 2620:100:6023:1::a27d:4301\n",
            "Connecting to www.dropbox.com (www.dropbox.com)|162.125.67.1|:443... connected.\n",
            "HTTP request sent, awaiting response... 301 Moved Permanently\n",
            "Location: /s/raw/zkehq1uwahhbc2o/ColorizeArtistic_gen.pth [following]\n",
            "--2020-09-27 13:52:41--  https://www.dropbox.com/s/raw/zkehq1uwahhbc2o/ColorizeArtistic_gen.pth\n",
            "Reusing existing connection to www.dropbox.com:443.\n",
            "HTTP request sent, awaiting response... 302 Found\n",
            "Location: https://uc5ddeee1db860d2fa992ea7ecc5.dl.dropboxusercontent.com/cd/0/inline/BANH8NY0vKtNXy0MOGnGXV9hB68R_CEEhKdKHC-M00aeMTmBFFhSo7qQlRH7bCI09Mdssy9ize9sK4NqYUBQbEevzWu8Jb7ygtBVYM9Ew0GoNg/file# [following]\n",
            "--2020-09-27 13:52:41--  https://uc5ddeee1db860d2fa992ea7ecc5.dl.dropboxusercontent.com/cd/0/inline/BANH8NY0vKtNXy0MOGnGXV9hB68R_CEEhKdKHC-M00aeMTmBFFhSo7qQlRH7bCI09Mdssy9ize9sK4NqYUBQbEevzWu8Jb7ygtBVYM9Ew0GoNg/file\n",
            "Resolving uc5ddeee1db860d2fa992ea7ecc5.dl.dropboxusercontent.com (uc5ddeee1db860d2fa992ea7ecc5.dl.dropboxusercontent.com)... 162.125.67.15, 2620:100:6023:15::a27d:430f\n",
            "Connecting to uc5ddeee1db860d2fa992ea7ecc5.dl.dropboxusercontent.com (uc5ddeee1db860d2fa992ea7ecc5.dl.dropboxusercontent.com)|162.125.67.15|:443... connected.\n",
            "HTTP request sent, awaiting response... 302 Found\n",
            "Location: /cd/0/inline2/BANGoTaEyyNDgW_C2sc8YgAUd1bnJ88zvjnBgthwlcxONq6Ir-ZfehqEMY86FuZ0_LQiGJ-LnplAhllHxLxG0_XKvwoGMfRuMZWMjJrIffN90O2cVgaaFx95COQTQXd7W89cTs6Y6ow4gDxQdGTeBv-8qh-0j5cVAmN6ayMXMrdgnaADzBmnY-frv-UHXS5xH_ndyrpyCz4Kw2qO6Mv_u4xAj33htQJjphUulbNkIBmaaO0rkGZzT0e1oMToyKRu2_1U1LI_BPD5bZW-Db2NTtombdm1naHrw_rDhcDBsCISY8sK0XSFQ3PhTKAAvpiGLPeiPWRqWGqFt70Dt_fcecaG/file [following]\n",
            "--2020-09-27 13:52:42--  https://uc5ddeee1db860d2fa992ea7ecc5.dl.dropboxusercontent.com/cd/0/inline2/BANGoTaEyyNDgW_C2sc8YgAUd1bnJ88zvjnBgthwlcxONq6Ir-ZfehqEMY86FuZ0_LQiGJ-LnplAhllHxLxG0_XKvwoGMfRuMZWMjJrIffN90O2cVgaaFx95COQTQXd7W89cTs6Y6ow4gDxQdGTeBv-8qh-0j5cVAmN6ayMXMrdgnaADzBmnY-frv-UHXS5xH_ndyrpyCz4Kw2qO6Mv_u4xAj33htQJjphUulbNkIBmaaO0rkGZzT0e1oMToyKRu2_1U1LI_BPD5bZW-Db2NTtombdm1naHrw_rDhcDBsCISY8sK0XSFQ3PhTKAAvpiGLPeiPWRqWGqFt70Dt_fcecaG/file\n",
            "Reusing existing connection to uc5ddeee1db860d2fa992ea7ecc5.dl.dropboxusercontent.com:443.\n",
            "HTTP request sent, awaiting response... 200 OK\n",
            "Length: 255144681 (243M) [application/octet-stream]\n",
            "Saving to: ‘./models/ColorizeArtistic_gen.pth’\n",
            "\n",
            "./models/ColorizeAr 100%[===================>] 243.32M  17.5MB/s    in 14s     \n",
            "\n",
            "2020-09-27 13:52:57 (17.6 MB/s) - ‘./models/ColorizeArtistic_gen.pth’ saved [255144681/255144681]\n",
            "\n",
            "--2020-09-27 13:52:57--  https://www.dropbox.com/s/mwjep3vyqk5mkjc/ColorizeStable_gen.pth?dl=0\n",
            "Resolving www.dropbox.com (www.dropbox.com)... 162.125.67.1, 2620:100:6023:1::a27d:4301\n",
            "Connecting to www.dropbox.com (www.dropbox.com)|162.125.67.1|:443... connected.\n",
            "HTTP request sent, awaiting response... 301 Moved Permanently\n",
            "Location: /s/raw/mwjep3vyqk5mkjc/ColorizeStable_gen.pth [following]\n",
            "--2020-09-27 13:52:57--  https://www.dropbox.com/s/raw/mwjep3vyqk5mkjc/ColorizeStable_gen.pth\n",
            "Reusing existing connection to www.dropbox.com:443.\n",
            "HTTP request sent, awaiting response... 302 Found\n",
            "Location: https://uc152a393a858b729eea2e9e7641.dl.dropboxusercontent.com/cd/0/inline/BAOD_QGYE2ai-Ss7TtG1r0QztDm9qI7U1XuRlhfdmfBlQ6soWc0let1rs4CE_EoBkqeZZNYFP4EjeAIIBsTUEpU8EGUrJHOBNUdVIK6RXEyWqA/file# [following]\n",
            "--2020-09-27 13:52:57--  https://uc152a393a858b729eea2e9e7641.dl.dropboxusercontent.com/cd/0/inline/BAOD_QGYE2ai-Ss7TtG1r0QztDm9qI7U1XuRlhfdmfBlQ6soWc0let1rs4CE_EoBkqeZZNYFP4EjeAIIBsTUEpU8EGUrJHOBNUdVIK6RXEyWqA/file\n",
            "Resolving uc152a393a858b729eea2e9e7641.dl.dropboxusercontent.com (uc152a393a858b729eea2e9e7641.dl.dropboxusercontent.com)... 162.125.67.15, 2620:100:6023:15::a27d:430f\n",
            "Connecting to uc152a393a858b729eea2e9e7641.dl.dropboxusercontent.com (uc152a393a858b729eea2e9e7641.dl.dropboxusercontent.com)|162.125.67.15|:443... connected.\n",
            "HTTP request sent, awaiting response... 302 Found\n",
            "Location: /cd/0/inline2/BAPe0Py9ddlOx1LyhjQr3wuTY1kcBvoJjGpt_GUR2Hl3PcSpRChodUl7TNXKThv12rek5RjpFPrBtV-J4LFjxsB6qCLPFdRRhVas1NrbLYnOM65FZCrEvjx3LvD0WgRJldA5uk6zk3rQIujNQaS2t8IKdvYdK_lMbEBqbVZ0eCY7XmWZ029HaKvm-It0bvrMz7PsUtUaAggAZddrZ0jNPF7o69cm-H-nirDfOxRkv0ImT-4wS5s5mV01J-lDygL3FllKk1ITNiDb0ZO07Rn3C-bM50ue5Q9Urx5ZMZDszUCtXc8xXTu2Ziskil0byoAWOLGYmbqji3mTuycKy51n7UHI/file [following]\n",
            "--2020-09-27 13:52:58--  https://uc152a393a858b729eea2e9e7641.dl.dropboxusercontent.com/cd/0/inline2/BAPe0Py9ddlOx1LyhjQr3wuTY1kcBvoJjGpt_GUR2Hl3PcSpRChodUl7TNXKThv12rek5RjpFPrBtV-J4LFjxsB6qCLPFdRRhVas1NrbLYnOM65FZCrEvjx3LvD0WgRJldA5uk6zk3rQIujNQaS2t8IKdvYdK_lMbEBqbVZ0eCY7XmWZ029HaKvm-It0bvrMz7PsUtUaAggAZddrZ0jNPF7o69cm-H-nirDfOxRkv0ImT-4wS5s5mV01J-lDygL3FllKk1ITNiDb0ZO07Rn3C-bM50ue5Q9Urx5ZMZDszUCtXc8xXTu2Ziskil0byoAWOLGYmbqji3mTuycKy51n7UHI/file\n",
            "Reusing existing connection to uc152a393a858b729eea2e9e7641.dl.dropboxusercontent.com:443.\n",
            "HTTP request sent, awaiting response... 200 OK\n",
            "Length: 874066230 (834M) [application/octet-stream]\n",
            "Saving to: ‘./models/ColorizeStable_gen.pth’\n",
            "\n",
            "./models/ColorizeSt 100%[===================>] 833.57M  25.0MB/s    in 34s     \n",
            "\n",
            "2020-09-27 13:53:33 (24.3 MB/s) - ‘./models/ColorizeStable_gen.pth’ saved [874066230/874066230]\n",
            "\n"
          ],
          "name": "stdout"
        }
      ]
    },
    {
      "cell_type": "markdown",
      "metadata": {
        "id": "sUQrbSYipiJn"
      },
      "source": [
        "## Ejecucción\n",
        "\n",
        "Ya está todo configurado correctamente, asi que nos podemos poner a colorear nuestras fotos en blanco y negro."
      ]
    },
    {
      "cell_type": "markdown",
      "metadata": {
        "id": "QZqJ7H7Q2YTW"
      },
      "source": [
        "### Para colorear una única imagen"
      ]
    },
    {
      "cell_type": "code",
      "metadata": {
        "id": "yVyH3n6BiN-S"
      },
      "source": [
        "# Introducir la ruta de vuestras imágenes. En mi caso, la tengo almacenada en Drive asi que la ruta sería la siguiente \n",
        "\n",
        "img_path = \"/content/drive/My Drive/test_images/Torralba/70cd4b4849-ANTIGUA 7.jpg\""
      ],
      "execution_count": null,
      "outputs": []
    },
    {
      "cell_type": "code",
      "metadata": {
        "id": "GqA8TkL5h4v6"
      },
      "source": [
        "# Imagen original \n",
        "show_image_in_notebook(img_path)\n",
        "\n",
        "# Poner a False para usar el modo estable, y a True si se quiere usar el modo artistico.\n",
        "colorizer = get_image_colorizer(artistic=True)\n",
        "\n",
        "# Imagen coloreada\n",
        "img = colorizer.plot_transformed_image(img_path,render_factor=35, watermarked=False)"
      ],
      "execution_count": null,
      "outputs": []
    },
    {
      "cell_type": "markdown",
      "metadata": {
        "id": "ZLRMlFlZ3Fxb"
      },
      "source": [
        "### Para colorear todas las imágenes de una carpeta"
      ]
    },
    {
      "cell_type": "code",
      "metadata": {
        "id": "FWW4vo8j02--"
      },
      "source": [
        "from PIL import Image\n",
        "import os\n",
        "import glob\n",
        "\n",
        "img_list = []\n",
        "img_folder = \"/content/drive/My Drive/test_images/Torralba/\"\n",
        "img_ext = '.jpg'\n",
        "\n",
        "# Definir a True o False dependiendo del modo que se quiera seleccionar\n",
        "colorizer = get_image_colorizer(artistic=True)\n",
        "# colorizer = get_image_colorizer(artistic=False)\n",
        "\n",
        "%cd /content/drive/My Drive/test_images/Familia/\n",
        "find_pattern = '*' + img_ext\n",
        "img_list = glob.glob(find_pattern)\n",
        "%cd /content/DeOldify\n",
        "\n",
        "num_img = len(img_list)\n",
        "\n",
        "for idx, img_path in enumerate(img_list, start=1):\n",
        "  print(\"Coloreando la imagen \", idx, \" de \", num_img, \" imágenes\")\n",
        "  img_path = os.path.join(img_folder, img_path)\n",
        "  img_out_path = img_path.strip(img_ext) + \"_color_artistic\" + img_ext\n",
        "  \n",
        "  # Comprobar si la foto existe en el directorio de salida\n",
        "  if os.path.isfile(img_out_path):\n",
        "    print(\"Saltando a la próxima foto\")\n",
        "  else:\n",
        "    img = colorizer.plot_transformed_image(img_path,render_factor=35, watermarked=False)\n",
        "    img_pil = Image.open(img)\n",
        "    img_pil.save(img_out_path)\n",
        "\n",
        "print(\"Se ha finalizado la colorización de las imágenes. Compruebe los resultados.\")\n"
      ],
      "execution_count": null,
      "outputs": []
    }
  ]
}